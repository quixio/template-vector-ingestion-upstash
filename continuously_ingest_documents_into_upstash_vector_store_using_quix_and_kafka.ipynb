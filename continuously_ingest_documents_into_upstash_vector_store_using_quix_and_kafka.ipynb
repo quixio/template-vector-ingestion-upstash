{
  "cells": [
    {
      "cell_type": "raw",
      "metadata": {
        "id": "19c25bd8"
      },
      "source": [
        "\n",
        "# Continuously ingest documents into a vector store using Apache Kafka\n"
      ],
      "id": "19c25bd8"
    },
    {
      "cell_type": "markdown",
      "metadata": {
        "id": "37d82bc6"
      },
      "source": [
        "Stream data from a CSV (simulating CDC or \"Change Data Capture\") and ingest it into a vector store: for semantic search.\n",
        "![Pipeline Diagram](https://github.com/quixio/template-vector-ingestion-upstash/blob/develop/exdr_pipeline.png?raw=1)\n",
        "_Note: for simplicity, this notebook uses a local version of Kafka but can be easily adapted to use Kafka in Upstash instead._\n\n",
        "This demo features the following open source libraries:\n",
        "* **[Quix Streams](https://github.com/quixio/quix-streams)** to produce data to, and consume data from, Apache Kafka.\n",
        "\n",
        "* **[Upstash Vector Python SDK](https://github.com/upstash/vector-py)** to store the embeddings in the Upstash vector database.\n",
        "\n",
        "\n",
        "## Setup\n",
        "\n",
        "Install the libraries and a local version of Apache Kafka, then start the Kafka servers.\n",
        "\n",
        "### 1. Install the main dependencies\n",
        "\n",
        "Dependencies include:the Quix Streams library, the Upstash Vector Python SDK, and the sentence transformers library (we'll use the default sentence transformers embedding model).\n"
      ],
      "id": "37d82bc6"
    },
    {
      "cell_type": "code",
      "metadata": {
        "id": "2d18a124"
      },
      "source": [
        "!pip install quixstreams==2.4.1 upstash-vector sentence-transformers pandas"
      ],
      "id": "2d18a124",
      "execution_count": null,
      "outputs": []
    },
    {
      "cell_type": "markdown",
      "metadata": {
        "id": "0c716bb5"
      },
      "source": [
        "### 3. Download and setup Kafka and Zookeeper instances\n",
        "\n",
        "Using the default configurations (provided by Apache Kafka) for spinning up the instances.\n"
      ],
      "id": "0c716bb5"
    },
    {
      "cell_type": "code",
      "metadata": {
        "id": "a683a464"
      },
      "source": [
        "kafkaversion = \"2.13-3.7.0\"\n",
        "dlurl = f\"https://dlcdn.apache.org/kafka/3.7.0/kafka_{kafkaversion}.tgz\"\n",
        "file = f\"kafka_{kafkaversion}.tgz\"\n",
        "!curl -sSOL {dlurl}\n",
        "!tar -xzf {file}"
      ],
      "id": "a683a464",
      "execution_count": 6,
      "outputs": []
    },
    {
      "cell_type": "code",
      "metadata": {
        "id": "0560b88f"
      },
      "source": [
        "zksetup = [f\"./kafka_{kafkaversion}/bin/zookeeper-server-start.sh\",f\"./kafka_{kafkaversion}/config/zookeeper.properties\"]\n",
        "kssetup = [f\"./kafka_{kafkaversion}/bin/kafka-server-start.sh\",f\"./kafka_{kafkaversion}/config/server.properties\"]\n",
        "\n",
        "!{zksetup[0]} -daemon {zksetup[1]}\n",
        "!{kssetup[0]} -daemon {kssetup[1]}\n",
        "!echo \"Waiting for 10 secs until kafka and zookeeper services are up and running\"\n",
        "!sleep 10"
      ],
      "id": "0560b88f",
      "execution_count": null,
      "outputs": []
    },
    {
      "cell_type": "markdown",
      "metadata": {
        "id": "7bea5dd1"
      },
      "source": [
        "### 4. Check that the Kafka Daemons are running\n",
        "\n",
        "Show the running daemon processes by filtering the list for the keyword \"java\" while excluding the grep process itself\n"
      ],
      "id": "7bea5dd1"
    },
    {
      "cell_type": "code",
      "metadata": {
        "id": "ef5ae262"
      },
      "source": [
        "!ps aux | grep -E '[j]ava'"
      ],
      "id": "ef5ae262",
      "execution_count": null,
      "outputs": []
    },
    {
      "cell_type": "markdown",
      "metadata": {
        "id": "8fa6b7e7"
      },
      "source": [
        "### 5. Import all the libraries and set some constants\n",
        "\n",
        "Import the required libraries including Quix and Qdrant and set some constants for frequently used variables.\n"
      ],
      "id": "8fa6b7e7"
    },
    {
      "cell_type": "code",
      "metadata": {
        "id": "f33142b2"
      },
      "source": [
        "import json\n",
        "import time\n",
        "import uuid\n",
        "import os\n",
        "import pandas as pd\n",
        "from getpass import getpass\n",
        "from upstash_vector import Index\n",
        "\n",
        "# Quix stuff\n",
        "from quixstreams import Application\n",
        "from sentence_transformers import SentenceTransformer\n",
        "\n",
        "docs_topic_name = 'docs_books'\n",
        "vectors_topic_name = 'vectors_all-minilm-l6-v2'\n",
        "consumergroup_name = 'upstash-demo'\n",
        "collectionname = \"book-catalog\""
      ],
      "id": "f33142b2",
      "execution_count": 10,
      "outputs": []
    },
    {
      "cell_type": "markdown",
      "metadata": {
        "id": "8a6075d4"
      },
      "source": [
        "## 1. First ingestion pass\n",
        "\n",
        "* In the first pass, we'll add some initial entries to a \"book-catalog\" vector store via Kafka, then search the vector store to check that the data was ingested correctly.\n",
        "* In the second round we'll go through the whole process again (albeit faster) with new data, and see how the matches change for the same search query.\n",
        "\n",
        "### 1.1 Create data\n",
        "\n",
        "Create sample data and dump it to CSV (so we can get used to producing to Kafka from a CSV file in the next steps)\n"
      ],
      "id": "8a6075d4"
    },
    {
      "cell_type": "code",
      "metadata": {
        "id": "727cab1a"
      },
      "source": [
        "# Let's create a dataset based on sci-fi books.\n",
        "documents = [\n",
        "  { \"name\": \"The Time Machine\", \"description\": \"A man travels through time and witnesses the evolution of humanity.\", \"author\": \"H.G. Wells\", \"year\": 1895 },\n",
        "  { \"name\": \"Ender's Game\", \"description\": \"A young boy is trained to become a military leader in a war against an alien race.\", \"author\": \"Orson Scott Card\", \"year\": 1985 },\n",
        "  { \"name\": \"Brave New World\", \"description\": \"A dystopian society where people are genetically engineered and conditioned to conform to a strict social hierarchy.\", \"author\": \"Aldous Huxley\", \"year\": 1932 },\n",
        "  {\"name\": \"An Absolutely Remarkable Thing\", \"description\": \"A young woman becomes famous after discovering a mysterious alien artifact in New York City.\", \"author\": \"Hank Green\", \"year\": 2018},\n",
        "  { \"name\": \"Dune\", \"description\": \"A desert planet is the site of political intrigue and power struggles.\", \"author\": \"Frank Herbert\", \"year\": 1965 },\n",
        "  { \"name\": \"Foundation\", \"description\": \"A mathematician develops a science to predict the future of humanity and works to save civilization from collapse.\", \"author\": \"Isaac Asimov\", \"year\": 1951 },\n",
        "  { \"name\": \"Snow Crash\", \"description\": \"A futuristic world where the internet has evolved into a virtual reality metaverse.\", \"author\": \"Neal Stephenson\", \"year\": 1992 },\n",
        "  { \"name\": \"Neuromancer\", \"description\": \"A hacker is hired to pull off a near-impossible hack and gets pulled into a web of intrigue.\", \"author\": \"William Gibson\", \"year\": 1984 },\n",
        "  { \"name\": \"The War of the Worlds\", \"description\": \"A Martian invasion of Earth throws humanity into chaos.\", \"author\": \"H.G. Wells\", \"year\": 1898 },\n",
        "  { \"name\": \"The Hunger Games\", \"description\": \"A dystopian society where teenagers are forced to fight to the death in a televised spectacle.\", \"author\": \"Suzanne Collins\", \"year\": 2008 },\n",
        "  { \"name\": \"The Andromeda Strain\", \"description\": \"A deadly virus from outer space threatens to wipe out humanity.\", \"author\": \"Michael Crichton\", \"year\": 1969 },\n",
        "  { \"name\": \"The Left Hand of Darkness\", \"description\": \"A human ambassador is sent to a planet where the inhabitants are genderless and can change gender at will.\", \"author\": \"Ursula K. Le Guin\", \"year\": 1969 },\n",
        "  { \"name\": \"The Time Traveler's Wife\", \"description\": \"A love story between a man who involuntarily time travels and the woman he loves.\", \"author\": \"Audrey Niffenegger\", \"year\": 2003 }\n",
        "]\n",
        "\n",
        "# Convert the list of dictionaries to a DataFrame\n",
        "df = pd.DataFrame(documents)\n",
        "# Save the DataFrame to a CSV file - producing from a CSV is a common test case when setting up a producer application.\n",
        "df.to_csv('documents.csv')"
      ],
      "id": "727cab1a",
      "execution_count": 11,
      "outputs": []
    },
    {
      "cell_type": "markdown",
      "metadata": {
        "id": "3ca41f7b"
      },
      "source": [
        "### 1.2 Initialize the Quix Producer to send the docs to Kafka\n",
        "\n",
        "Load the CSV file back in again and interate through it with the Quix Producer.\n"
      ],
      "id": "3ca41f7b"
    },
    {
      "cell_type": "code",
      "metadata": {
        "id": "1a0f5cc8"
      },
      "source": [
        "df = pd.read_csv('/content/documents.csv')\n",
        "outputtopicname = docs_topic_name\n",
        "offsetlimit = len(df)-2\n",
        "print(f\"Producing to output topic: {outputtopicname}...\\n\\n\")\n",
        "\n",
        "# Initialize a Quix Producer\n",
        "app = Application(broker_address=\"127.0.0.1:9092\")\n",
        "producer = app.get_producer()\n",
        "\n",
        "with producer:\n",
        "    for index, row in df.iterrows():\n",
        "        doc_id = index\n",
        "        doc_key = f\"A{'0'*(10-len(str(doc_id)))}{doc_id}\"\n",
        "        doc_uuid = str(uuid.uuid4())\n",
        "        value = {\n",
        "            \"Timestamp\": time.time_ns(),\n",
        "            \"doc_id\": doc_id,\n",
        "            \"doc_uuid\": doc_uuid,\n",
        "            \"doc_name\": row['name'],\n",
        "            \"doc_descr\": row['description'],\n",
        "            \"doc_year\": row['year'],\n",
        "        }\n",
        "        print(f\"Producing value: {value}\")\n",
        "        producer.produce(\n",
        "            topic=outputtopicname,\n",
        "            headers=[(\"uuid\", doc_uuid)],  # a dict is also allowed here\n",
        "            key=doc_key,\n",
        "            value=json.dumps(value),  # needs to be a string\n",
        "        )"
      ],
      "id": "1a0f5cc8",
      "execution_count": null,
      "outputs": []
    },
    {
      "cell_type": "markdown",
      "metadata": {
        "id": "44ad9eb5"
      },
      "source": [
        "### 1.3 Consume and enrich the data\n",
        "\n",
        "Create a Quix Consumer/Producer to:\n",
        " 1. **Consume**: read the docs from the docs topic, create embeddings for each doc\n",
        " 3. **Enrich**: add the embeddings to docs data\n",
        " 4. **Produce**: write the enriched data to a downstream vectors topic\n",
        "\n",
        "Set the input/output topics and initialize the embedding model\n"
      ],
      "id": "44ad9eb5"
    },
    {
      "cell_type": "code",
      "metadata": {
        "id": "b52234a1"
      },
      "source": [
        "inputtopicname = docs_topic_name\n",
        "outputtopicname = vectors_topic_name\n",
        "encoder = SentenceTransformer('all-MiniLM-L6-v2') # Model to create embeddings"
      ],
      "id": "b52234a1",
      "execution_count": null,
      "outputs": []
    },
    {
      "cell_type": "markdown",
      "metadata": {
        "id": "9d832f37"
      },
      "source": [
        "Define the embedding function\n"
      ],
      "id": "9d832f37"
    },
    {
      "cell_type": "code",
      "metadata": {
        "id": "4e74d0ce"
      },
      "source": [
        "def create_embeddings(row):\n",
        "    text = row['doc_descr']\n",
        "    embeddings = encoder.encode(text)\n",
        "    embedding_list = embeddings.tolist() # Conversion step because SentenceTransformer outputs a numpy array but Upstash expects a plain list\n",
        "    print(f'Created vector: \"{embedding_list}\"')\n",
        "    time.sleep(0.2) # Adding small pause since Colab sometimes chokes\n",
        "\n",
        "    return embedding_list"
      ],
      "id": "4e74d0ce",
      "execution_count": 14,
      "outputs": []
    },
    {
      "cell_type": "markdown",
      "metadata": {
        "id": "52169d02"
      },
      "source": [
        "Start the transformation process (consume->enrich->produce)\n"
      ],
      "id": "52169d02"
    },
    {
      "cell_type": "code",
      "metadata": {
        "id": "397d9ee0"
      },
      "source": [
        "# Create a special stop condition just for this Notebook (otherwise the cell will run indefinitely)\n",
        "print(f\"Using offset limit {offsetlimit}\")\n",
        "def on_message_processed(topic, partition, offset):\n",
        "    if offset > offsetlimit:\n",
        "        app.stop()\n",
        "\n",
        "# Redefine the consumer application and settings\n",
        "app = Application(\n",
        "    broker_address=\"127.0.0.1:9092\",\n",
        "    consumer_group=consumergroup_name,\n",
        "    auto_offset_reset=\"earliest\",\n",
        "    on_message_processed=on_message_processed,\n",
        "    consumer_extra_config={\"allow.auto.create.topics\": \"true\"},\n",
        ")\n",
        "\n",
        "# Define an input topic with JSON deserializer\n",
        "input_topic = app.topic(inputtopicname, value_deserializer=\"json\")\n",
        "print(f\"Consuming from input topic: {inputtopicname}\")\n",
        "\n",
        "# Define an output topic with JSON serializer\n",
        "output_topic = app.topic(outputtopicname, value_serializer=\"json\")\n",
        "print(f\"Producing to output topic: {outputtopicname}\")\n",
        "\n",
        "# Initialize a streaming dataframe based on the stream of messages from the input topic:\n",
        "sdf = app.dataframe(topic=input_topic)\n",
        "\n",
        "sdf = sdf.update(lambda val: print(f\"Received update: {val}\"))\n",
        "\n",
        "# EMBEDDING HAPPENS HERE\n",
        "### Trigger the embedding function for any new messages(rows) detected in the filtered SDF\n",
        "sdf[\"embeddings\"] = sdf.apply(create_embeddings, stateful=False)\n",
        "\n",
        "# Update the timestamp column to the current time in nanoseconds\n",
        "sdf[\"Timestamp\"] = sdf[\"Timestamp\"].apply(lambda row: time.time_ns())\n",
        "\n",
        "# Publish the processed SDF to a Kafka topic specified by the output_topic object.\n",
        "sdf = sdf.to_topic(output_topic)\n",
        "\n",
        "app.run(sdf)"
      ],
      "id": "397d9ee0",
      "execution_count": null,
      "outputs": []
    },
    {
      "cell_type": "markdown",
      "metadata": {
        "id": "54b3b2ae"
      },
      "source": [
        "### 1.4 Consume vectors and sink them into the DB\n",
        "\n",
        "Create a Quix \"Sink\" Consumer with Upstash as a data sink.\n",
        "\n",
        "The consumer:\n",
        " 1. reads the embeddings from the vectors topic\n",
        " 2. writes each embedding to the vector db along with the original text.\n",
        "\n",
        "Initialize the Upstash client with your Upstash endpoint and token.\n"
      ],
      "id": "54b3b2ae"
    },
    {
      "cell_type": "code",
      "source": [
        "endpoint = input('Enter your Upstash endpoint URL: ')"
      ],
      "metadata": {
        "id": "cKSQESl3TDvM"
      },
      "id": "cKSQESl3TDvM",
      "execution_count": null,
      "outputs": []
    },
    {
      "cell_type": "code",
      "metadata": {
        "id": "10606b9a"
      },
      "source": [
        "token = getpass('Enter your Upstash token here: ')\n",
        "upstashindex = Index(url=f\"https://{endpoint}\", token=token)"
      ],
      "id": "10606b9a",
      "execution_count": null,
      "outputs": []
    },
    {
      "cell_type": "markdown",
      "metadata": {
        "id": "149b168f"
      },
      "source": [
        "Define the ingestion function\n"
      ],
      "id": "149b168f"
    },
    {
      "cell_type": "code",
      "metadata": {
        "id": "66d96aa4"
      },
      "source": [
        "def ingest_vectors(row):\n",
        "\n",
        "  upstashindex.upsert(\n",
        "    vectors=[\n",
        "        {\"id\": row['doc_uuid'], \"vector\": row['embeddings'], \"metadata\": {\"doc_name\": row['doc_name'],\"doc_descr\": row['doc_descr'],\"doc_year\": row['doc_year'],}},\n",
        "    ]\n",
        "  )\n",
        "\n",
        "  print(f'Ingested vector entry id: \"{row[\"doc_uuid\"]}\"...')"
      ],
      "id": "66d96aa4",
      "execution_count": 36,
      "outputs": []
    },
    {
      "cell_type": "markdown",
      "metadata": {
        "id": "81d0392b"
      },
      "source": [
        "Start the consumer process (consume->sink)\n"
      ],
      "id": "81d0392b"
    },
    {
      "cell_type": "code",
      "metadata": {
        "id": "62933e1c"
      },
      "source": [
        "inputtopicname = vectors_topic_name\n",
        "\n",
        "# Create a special stop condition just for this Notebook (otherwise the cell will run indefinitely)\n",
        "print(f\"Using offset limit {offsetlimit}\")\n",
        "def on_message_processed(topic, partition, offset):\n",
        "    if offset > offsetlimit:\n",
        "        app.stop()\n",
        "\n",
        "# Redefine the consumer application and settings\n",
        "app = Application(\n",
        "    broker_address=\"127.0.0.1:9092\",\n",
        "    consumer_group=\"vectorizer\",\n",
        "    auto_offset_reset=\"earliest\",\n",
        "    on_message_processed=on_message_processed,\n",
        "    consumer_extra_config={\"allow.auto.create.topics\": \"true\"},\n",
        ")\n",
        "\n",
        "# Define an input topic with JSON deserializer\n",
        "input_topic = app.topic(inputtopicname, value_deserializer=\"json\")\n",
        "print(f\"Consuming from input topic: {inputtopicname}\")\n",
        "\n",
        "# Initialize a streaming dataframe based on the stream of messages from the input topic:\n",
        "sdf = app.dataframe(topic=input_topic)\n",
        "\n",
        "# INGESTION HAPPENS HERE\n",
        "### Trigger the embedding function for any new messages(rows) detected in the filtered SDF\n",
        "sdf = sdf.update(lambda row: ingest_vectors(row))\n",
        "app.run(sdf)"
      ],
      "id": "62933e1c",
      "execution_count": null,
      "outputs": []
    },
    {
      "cell_type": "markdown",
      "metadata": {
        "id": "60c26a21"
      },
      "source": [
        "### Run a test query on the ingested vectors\n",
        "\n",
        "Use Qdrant to do a basic similarity seach to make sure the vectors have been ingested properly and are matching in the expected way.\n"
      ],
      "id": "60c26a21"
    },
    {
      "cell_type": "code",
      "metadata": {
        "id": "ddbde367"
      },
      "source": [
        "query = \"books like star wars\" # Leave the test query as-is for the first attempt\n",
        "\n",
        "query_vector = encoder.encode(query).tolist()\n",
        "\n",
        "top_k = 6\n",
        "query_res = index.query(\n",
        "    vector=query_vector,\n",
        "    top_k=top_k,\n",
        "    include_vectors=True,\n",
        "    include_metadata=True,\n",
        ")\n",
        "\n",
        "print(\"Entries matching your query:\")\n",
        "for res in query_res:\n",
        "  print(res.id, \" | \", res.metadata, \"score:\", res.score)"
      ],
      "id": "ddbde367",
      "execution_count": null,
      "outputs": []
    },
    {
      "cell_type": "markdown",
      "metadata": {
        "id": "eb4f64cb"
      },
      "source": [
        "If everything went to plan, \"*Dune*\" should be top match for the query \"*books like star wars*\". This makes sense, since Dune is kind of like Star Wars (depending on who you ask). We can guess it matched because planet\" is semantically close to \"star\" and \"struggles\" is semantically close to \"wars\".\n",
        "\n",
        "Now let's suppose we update our catalog to with more books to acommodate all those who are looking for similar items. We want the vector store to be updated as soon as the new book entries are entered in the main catalog database. This will ensure we get as many good matches (and hopefully purchases) as possible without any delays.\n",
        "\n",
        "# 2. Second ingestion pass\n",
        "\n",
        "We're going to stream the sample data from a CSV again—but in production scenario, these items would be added incrementally as changes to the product catalog are detected and streamed to Apache Kafka as they occur.\n",
        "\n",
        "### 2.1 Add more data\n"
      ],
      "id": "eb4f64cb"
    },
    {
      "cell_type": "code",
      "metadata": {
        "id": "39aaa41d"
      },
      "source": [
        "documents = [\n",
        "  {\"name\": \"Childhood's End\", \"description\": \"A peaceful alien invasion leads to the end of humanity's childhood.\", \"author\": \"Arthur C. Clarke\", \"year\": 1953 },\n",
        "  {\"name\": \"The Day of the Triffids\", \"description\": \"After a meteor shower blinds most of the population, aggressive plant life starts taking over.\", \"author\": \"John Wyndham\", \"year\": 1951 },\n",
        "  {\"name\": \"Contact\", \"description\": \"Scientists receive a message from extraterrestrial beings and build a machine to meet them.\", \"author\": \"Carl Sagan\", \"year\": 1985 },\n",
        "  {\"name\": \"The Three-Body Problem\", \"description\": \"Humanity faces a potential invasion from a distant alien civilization in crisis.\", \"author\": \"Liu Cixin\", \"year\": 2008 },\n",
        "  {\"name\": \"Sphere\", \"description\": \"A team investigates a spaceship found on the ocean floor, not knowing its mysterious and possibly extraterrestrial origin.\", \"author\": \"Michael Crichton\", \"year\": 1987 },\n",
        "  {\"name\": \"Footfall\", \"description\": \"Elephant-like aliens invade Earth, and humanity must find a way to fight back.\", \"author\": \"Larry Niven and Jerry Pournelle\", \"year\": 1985 },\n",
        "  {\"name\": \"The Puppet Masters\", \"description\": \"Slug-like aliens invade Earth by attaching to humans and controlling their minds.\", \"author\": \"Robert A. Heinlein\", \"year\": 1951 },\n",
        "  {\"name\": \"The Kraken Wakes\", \"description\": \"Alien beings from the depths of the ocean start attacking humanity.\", \"author\": \"John Wyndham\", \"year\": 1953 },\n",
        "  {\"name\": \"The Invasion of the Body Snatchers\", \"description\": \"A small town discovers that some of its residents are being replaced by perfect physical copies that emerge from plantlike pods.\", \"author\": \"Jack Finney\", \"year\": 1955 },\n",
        "  {\"name\": \"Calculating God\", \"description\": \"An alien arrives on Earth, seeking to understand why God has apparently been involved in Earth's evolution.\", \"author\": \"Robert J. Sawyer\", \"year\": 2000 },\n",
        "  {\"name\": \"The Forge of God\", \"description\": \"Aliens arrive under the guise of friendship, but their true mission is to destroy Earth.\", \"author\": \"Greg Bear\", \"year\": 1987 },\n",
        "  {\"name\": \"Roadside Picnic\", \"description\": \"Aliens visited Earth, leaving behind zones filled with dangerous objects and phenomena.\", \"author\": \"Arkady and Boris Strugatsky\", \"year\": 1972 },\n",
        "  {\"name\": \"Out of the Dark\", \"description\": \"An alien race invades Earth, underestimating humanity's will to survive.\", \"author\": \"David Weber\", \"year\": 2010 },\n",
        "  {\"name\": \"Arrival (Stories of Your Life and Others)\", \"description\": \"A linguist learns to communicate with aliens who have arrived on Earth, altering her perception of reality.\", \"author\": \"Ted Chiang\", \"year\": 1998 },\n",
        "  {\"name\": \"To Serve Man\", \"description\": \"Aliens come to Earth claiming to be friends, but their true intentions are revealed in a horrifying twist.\", \"author\": \"Damon Knight\", \"year\": 1950},\n",
        "  {\"name\": \"The Mote in God's Eye\", \"description\": \"Humanity encounters an alien race that poses a unique and unforeseen challenge.\", \"author\": \"Larry Niven and Jerry Pournelle\", \"year\": 1974 },\n",
        "  {\"name\": \"Old Man's War\", \"description\": \"Earth's senior citizens are recruited to fight in an interstellar war, discovering new alien cultures and threats.\", \"author\": \"John Scalzi\", \"year\": 2005 },\n",
        "]\n",
        "\n",
        "# Convert the list of dictionaries to a DataFrame\n",
        "df = pd.DataFrame(documents)\n",
        "# Save the DataFrame to a CSV file so that we can practice producing to Kafka from a CSV file in the next step\n",
        "df.to_csv('documents.csv')"
      ],
      "id": "39aaa41d",
      "execution_count": 30,
      "outputs": []
    },
    {
      "cell_type": "markdown",
      "metadata": {
        "id": "68e3a2e2"
      },
      "source": [
        "### 2.2 Produce more data to the docs topic\n"
      ],
      "id": "68e3a2e2"
    },
    {
      "cell_type": "code",
      "metadata": {
        "id": "20001d27"
      },
      "source": [
        "df = pd.read_csv('/content/documents.csv')\n",
        "outputtopicname = docs_topic_name\n",
        "offsetlimit2 = len(df)\n",
        "offsetlimit = offsetlimit + offsetlimit2\n",
        "\n",
        "# Initialize a Quix Producer\n",
        "app = Application(broker_address=\"127.0.0.1:9092\")\n",
        "producer = app.get_producer()\n",
        "\n",
        "with producer:\n",
        "    for index, row in df.iterrows():\n",
        "        doc_id = index\n",
        "        doc_key = f\"A{'0'*(10-len(str(doc_id)))}{doc_id}\"\n",
        "        doc_uuid = str(uuid.uuid4())\n",
        "        value = {\n",
        "            \"Timestamp\": time.time_ns(),\n",
        "            \"doc_id\": doc_id,\n",
        "            \"doc_uuid\": doc_uuid,\n",
        "            \"doc_name\": row['name'],\n",
        "            \"doc_descr\": row['description'],\n",
        "            \"doc_year\": row['year'],\n",
        "        }\n",
        "        print(f\"Producing value: {value}\")\n",
        "        producer.produce(\n",
        "            topic=outputtopicname,\n",
        "            headers=[(\"uuid\", doc_uuid)],  # a dict is also allowed here\n",
        "            key=doc_key,\n",
        "            value=json.dumps(value),  # needs to be a string\n",
        "        )"
      ],
      "id": "20001d27",
      "execution_count": null,
      "outputs": []
    },
    {
      "cell_type": "markdown",
      "metadata": {
        "id": "132d1456"
      },
      "source": [
        "### 2.3 Consume, Enrich and produce again\n"
      ],
      "id": "132d1456"
    },
    {
      "cell_type": "code",
      "metadata": {
        "id": "c10cd99b"
      },
      "source": [
        "inputtopicname = docs_topic_name\n",
        "outputtopicname = vectors_topic_name\n",
        "\n",
        "# Create a special stop condition just for this Notebook (otherwise the cell will run indefinitely)\n",
        "print(f\"Using offset limit {offsetlimit}\")\n",
        "def on_message_processed(topic, partition, offset):\n",
        "    if offset > offsetlimit:\n",
        "        app.stop()\n",
        "\n",
        "# Define your application and settings\n",
        "app = Application(\n",
        "    broker_address=\"127.0.0.1:9092\",\n",
        "    consumer_group=consumergroup_name,\n",
        "    auto_offset_reset=\"earliest\",\n",
        "    on_message_processed=on_message_processed,\n",
        "    consumer_extra_config={\"allow.auto.create.topics\": \"true\"},\n",
        ")\n",
        "\n",
        "# Define an input topic with JSON deserializer\n",
        "input_topic = app.topic(inputtopicname, value_deserializer=\"json\")\n",
        "print(f\"Consuming from input topic: {inputtopicname}\")\n",
        "\n",
        "# Define an output topic with JSON serializer\n",
        "output_topic = app.topic(outputtopicname, value_serializer=\"json\")\n",
        "print(f\"Producing to output topic: {outputtopicname}\")\n",
        "\n",
        "# Initialize a streaming dataframe based on the stream of messages from the input topic:\n",
        "sdf = app.dataframe(topic=input_topic)\n",
        "\n",
        "# Filter the SDF to include only incoming rows where the roles that dont match the bot's current role\n",
        "sdf = sdf.update(lambda val: print(f\"Received update: {val}\"))\n",
        "\n",
        "# EMBEDDING HAPPENS HERE\n",
        "### Trigger the embedding function for any new messages(rows) detected in the filtered SDF\n",
        "sdf[\"embeddings\"] = sdf.apply(create_embeddings, stateful=False)\n",
        "\n",
        "# Update the timestamp column to the current time in nanoseconds\n",
        "sdf[\"Timestamp\"] = sdf[\"Timestamp\"].apply(lambda row: time.time_ns())\n",
        "\n",
        "# Publish the processed SDF to a Kafka topic specified by the output_topic object.\n",
        "sdf = sdf.to_topic(output_topic)\n",
        "\n",
        "app.run(sdf)\n",
        "\n",
        "\n",
        "# STOP THIS CELL MANUALLY WHEN THE BOOK ENTRIES HAVE BEEN ENRICHED WITH EMBEDDINGS"
      ],
      "id": "c10cd99b",
      "execution_count": null,
      "outputs": []
    },
    {
      "cell_type": "markdown",
      "metadata": {
        "id": "96a1122d"
      },
      "source": [
        "### 2.4 Consume the new embeddings and update the vector store\n"
      ],
      "id": "96a1122d"
    },
    {
      "cell_type": "code",
      "metadata": {
        "id": "79f04694"
      },
      "source": [
        "inputtopicname = vectors_topic_name\n",
        "\n",
        "# Create a special stop condition just for this Notebook (otherwise the cell will run indefinitely)\n",
        "print(f\"Using offset limit {offsetlimit}\")\n",
        "def on_message_processed(topic, partition, offset):\n",
        "    if offset > offsetlimit:\n",
        "        app.stop()\n",
        "\n",
        "# Define the consumer application and settings\n",
        "app = Application(\n",
        "    broker_address=\"127.0.0.1:9092\",\n",
        "    consumer_group=\"vectorizer\",\n",
        "    auto_offset_reset=\"earliest\",\n",
        "    on_message_processed=on_message_processed,\n",
        "    consumer_extra_config={\"allow.auto.create.topics\": \"true\"},\n",
        ")\n",
        "\n",
        "# Define an input topic with JSON deserializer\n",
        "input_topic = app.topic(inputtopicname, value_deserializer=\"json\")\n",
        "print(f\"Consuming from input topic: {inputtopicname}\")\n",
        "\n",
        "# Initialize a streaming dataframe based on the stream of messages from the input topic:\n",
        "sdf = app.dataframe(topic=input_topic)\n",
        "\n",
        "# INGESTION HAPPENS HERE\n",
        "### Trigger the embedding function for any new messages(rows) detected in the filtered SDF\n",
        "sdf = sdf.update(lambda row: ingest_vectors(row))\n",
        "app.run(sdf)"
      ],
      "id": "79f04694",
      "execution_count": null,
      "outputs": []
    },
    {
      "cell_type": "markdown",
      "metadata": {
        "id": "57f81ed9"
      },
      "source": [
        "### 2.5 Run the same search again\n"
      ],
      "id": "57f81ed9"
    },
    {
      "cell_type": "code",
      "metadata": {
        "id": "7d784c63"
      },
      "source": [
        "print(f\"Searching with query '{query}'...\\n\\n\")\n",
        "\n",
        "query_vector = encoder.encode(query).tolist()\n",
        "\n",
        "top_k = 6\n",
        "query_res = upstashindex.query(\n",
        "    vector=query_vector,\n",
        "    top_k=top_k,\n",
        "    include_vectors=True,\n",
        "    include_metadata=True,\n",
        ")\n",
        "\n",
        "print(\"Entries matching your query:\")\n",
        "for res in query_res:\n",
        "  print(res.id, \" | \", res.metadata, \"score:\", res.score)"
      ],
      "id": "7d784c63",
      "execution_count": null,
      "outputs": []
    },
    {
      "cell_type": "markdown",
      "metadata": {
        "id": "80fe32bb"
      },
      "source": [
        "*Expected top match: \"Old Man's War\".*\n",
        "\n",
        "Dune has now been knocked off the top slot as the most accurate match by our new arrival \"Old Man's War\". Is this tale of geriatric combat going to appeal more to star wars fans? It's debatable.\n",
        "\n",
        "But,  in terms of matching, we can certainly understand why it received a higher score. The \"term\" war is almost a direct hit, and \"interstellar\" is probably semantically closer to the search term \"star\" than \"planet\".\n",
        "\n",
        "## Lessons learned\n",
        "\n",
        "The point of this excercise was not to delve into the matching logic behind sematic search, rather how we can use Apache Kafka to keep data up-to-date.\n",
        "\n",
        "Indeed, keeping the underlying data fresh is a crucial component to search quality. We saw how we were able to give the user more semantically accurate search results by updating the vector store.\n",
        "\n",
        "We could have just updated the vector store manually, by embedding the contents of the CSV and writing to the vector store in batches. Yet this introduces several questions such as:\n",
        "\n",
        "* How does this work in a production ecommerce scenario where your product catalog is changing constantly?\n",
        "* How do you organize your batches and what is an acceptable delay between the product arriving in the catalog and it matching user search queries?\n",
        "\n",
        "If you set up an event-based system where embeddings are created and ingested as soon as data is entered (for example via CDC), you dont have to deal with these questions, which is why Apache Kafka is so popular.\n",
        "\n",
        "* To learn more about CDC, see Confluent's article \"[Succeeding with Change Data Capture](https://www.confluent.io/blog/how-change-data-capture-works-patterns-solutions-implementation/)\".\n"
      ],
      "id": "80fe32bb"
    }
  ],
  "metadata": {
    "kernelspec": {
      "display_name": "Python 3",
      "language": "python",
      "name": "python3"
    },
    "colab": {
      "provenance": []
    }
  },
  "nbformat": 4,
  "nbformat_minor": 5
}
